{
 "metadata": {
  "name": "",
  "signature": "sha256:1d930bfe223132556546f68faf27be3e29f6d35aef63d79c00ec108748191efd"
 },
 "nbformat": 3,
 "nbformat_minor": 0,
 "worksheets": [
  {
   "cells": [
    {
     "cell_type": "markdown",
     "metadata": {
      "slideshow": {
       "slide_type": "slide"
      }
     },
     "source": [
      "# The Many Lives of `yield`\n",
      "## Part 1: Generators\n",
      "### *The common `yield`*\n",
      "\n",
      "\n",
      "Alec Hanefeld\n",
      "\n",
      "Developer & Data Science\n",
      "\n",
      "[hanefeld.eu](http://www.hanefeld.eu)\n",
      "\n",
      "15.1.15\n",
      "\n",
      "Python User Group Berlin\n",
      "\n",
      "\n",
      "Note: A lot of this is **Python 3** only!\n",
      "\n",
      "\n",
      "\n",
      "\n",
      "\n",
      "\n",
      "\n"
     ]
    },
    {
     "cell_type": "markdown",
     "metadata": {
      "slideshow": {
       "slide_type": "slide"
      }
     },
     "source": [
      "### List Comprehensions"
     ]
    },
    {
     "cell_type": "code",
     "collapsed": false,
     "input": [
      "l = [x**2 for x in range(3)]\n",
      "l"
     ],
     "language": "python",
     "metadata": {
      "slideshow": {
       "slide_type": "fragment"
      }
     },
     "outputs": [
      {
       "metadata": {},
       "output_type": "pyout",
       "prompt_number": 63,
       "text": [
        "[0, 1, 4]"
       ]
      }
     ],
     "prompt_number": 63
    },
    {
     "cell_type": "markdown",
     "metadata": {
      "slideshow": {
       "slide_type": "fragment"
      }
     },
     "source": [
      "### Generator Expressions"
     ]
    },
    {
     "cell_type": "code",
     "collapsed": false,
     "input": [
      "g = (x**2 for x in range(3))\n",
      "g"
     ],
     "language": "python",
     "metadata": {
      "slideshow": {
       "slide_type": "fragment"
      }
     },
     "outputs": [
      {
       "metadata": {},
       "output_type": "pyout",
       "prompt_number": 64,
       "text": [
        "<generator object <genexpr> at 0x7f45c4061948>"
       ]
      }
     ],
     "prompt_number": 64
    },
    {
     "cell_type": "markdown",
     "metadata": {
      "slideshow": {
       "slide_type": "slide"
      }
     },
     "source": [
      "###Generator Objects\n",
      "Similar to a list in that it represents a sequence of values.\n",
      "\n",
      "Is an iterable. \n",
      "\n",
      "*iterare * lat.: to repeat\n",
      "\n",
      "Implements a `__next__()` method which enables iteration through `for`."
     ]
    },
    {
     "cell_type": "code",
     "collapsed": false,
     "input": [
      "for val in g:\n",
      "    print(val)"
     ],
     "language": "python",
     "metadata": {
      "slideshow": {
       "slide_type": "fragment"
      }
     },
     "outputs": [
      {
       "output_type": "stream",
       "stream": "stdout",
       "text": [
        "0\n",
        "1\n",
        "4\n"
       ]
      }
     ],
     "prompt_number": 66
    },
    {
     "cell_type": "markdown",
     "metadata": {
      "slideshow": {
       "slide_type": "fragment"
      }
     },
     "source": [
      "Just like our `list`"
     ]
    },
    {
     "cell_type": "code",
     "collapsed": false,
     "input": [
      "for val in l:\n",
      "    print(val)"
     ],
     "language": "python",
     "metadata": {
      "slideshow": {
       "slide_type": "fragment"
      }
     },
     "outputs": [
      {
       "output_type": "stream",
       "stream": "stdout",
       "text": [
        "0\n",
        "1\n",
        "4\n"
       ]
      }
     ],
     "prompt_number": 67
    },
    {
     "cell_type": "markdown",
     "metadata": {
      "slideshow": {
       "slide_type": "slide"
      }
     },
     "source": [
      "## Differences to `list`\n",
      "### Can only be iterated once"
     ]
    },
    {
     "cell_type": "code",
     "collapsed": false,
     "input": [
      "print('The code below will print nothing..')\n",
      "for val in g: # we already did this above\n",
      "    print(val) # so we wont see any\n",
      "print('.. because the generator is used up.')"
     ],
     "language": "python",
     "metadata": {
      "slideshow": {
       "slide_type": "fragment"
      }
     },
     "outputs": [
      {
       "output_type": "stream",
       "stream": "stdout",
       "text": [
        "The code below will print nothing..\n",
        ".. because the generator is used up.\n"
       ]
      }
     ],
     "prompt_number": 68
    },
    {
     "cell_type": "markdown",
     "metadata": {
      "slideshow": {
       "slide_type": "fragment"
      }
     },
     "source": [
      "### Doesn't have a len()"
     ]
    },
    {
     "cell_type": "code",
     "collapsed": false,
     "input": [
      "len(g)"
     ],
     "language": "python",
     "metadata": {
      "slideshow": {
       "slide_type": "fragment"
      }
     },
     "outputs": [
      {
       "ename": "TypeError",
       "evalue": "object of type 'generator' has no len()",
       "output_type": "pyerr",
       "traceback": [
        "\u001b[1;31m---------------------------------------------------------------------------\u001b[0m\n\u001b[1;31mTypeError\u001b[0m                                 Traceback (most recent call last)",
        "\u001b[1;32m<ipython-input-69-baf0f4fee012>\u001b[0m in \u001b[0;36m<module>\u001b[1;34m()\u001b[0m\n\u001b[1;32m----> 1\u001b[1;33m \u001b[0mlen\u001b[0m\u001b[1;33m(\u001b[0m\u001b[0mg\u001b[0m\u001b[1;33m)\u001b[0m\u001b[1;33m\u001b[0m\u001b[0m\n\u001b[0m",
        "\u001b[1;31mTypeError\u001b[0m: object of type 'generator' has no len()"
       ]
      }
     ],
     "prompt_number": 69
    },
    {
     "cell_type": "markdown",
     "metadata": {
      "slideshow": {
       "slide_type": "fragment"
      }
     },
     "source": [
      "### Doesn't provide `getitem` access:"
     ]
    },
    {
     "cell_type": "code",
     "collapsed": false,
     "input": [
      "g[0]"
     ],
     "language": "python",
     "metadata": {
      "slideshow": {
       "slide_type": "fragment"
      }
     },
     "outputs": [
      {
       "ename": "TypeError",
       "evalue": "'generator' object is not subscriptable",
       "output_type": "pyerr",
       "traceback": [
        "\u001b[1;31m---------------------------------------------------------------------------\u001b[0m\n\u001b[1;31mTypeError\u001b[0m                                 Traceback (most recent call last)",
        "\u001b[1;32m<ipython-input-70-6c4fe12bb1d9>\u001b[0m in \u001b[0;36m<module>\u001b[1;34m()\u001b[0m\n\u001b[1;32m----> 1\u001b[1;33m \u001b[0mg\u001b[0m\u001b[1;33m[\u001b[0m\u001b[1;36m0\u001b[0m\u001b[1;33m]\u001b[0m\u001b[1;33m\u001b[0m\u001b[0m\n\u001b[0m",
        "\u001b[1;31mTypeError\u001b[0m: 'generator' object is not subscriptable"
       ]
      }
     ],
     "prompt_number": 70
    },
    {
     "cell_type": "markdown",
     "metadata": {},
     "source": [
      "### next()\n",
      "Generators an also be iterated over by hand though inbuilt function `next()`"
     ]
    },
    {
     "cell_type": "code",
     "collapsed": false,
     "input": [
      "g = (n**2 for n in range(3))\n",
      "print(next(g))\n",
      "print(next(g))\n",
      "print(next(g))"
     ],
     "language": "python",
     "metadata": {},
     "outputs": [
      {
       "output_type": "stream",
       "stream": "stdout",
       "text": [
        "0\n",
        "1\n",
        "4\n"
       ]
      }
     ],
     "prompt_number": 71
    },
    {
     "cell_type": "markdown",
     "metadata": {},
     "source": [
      "Once the Generator is 'finished' `next()` throws an `StopIteration` exception"
     ]
    },
    {
     "cell_type": "code",
     "collapsed": false,
     "input": [
      "next(g)"
     ],
     "language": "python",
     "metadata": {},
     "outputs": [
      {
       "ename": "StopIteration",
       "evalue": "",
       "output_type": "pyerr",
       "traceback": [
        "\u001b[1;31m---------------------------------------------------------------------------\u001b[0m\n\u001b[1;31mStopIteration\u001b[0m                             Traceback (most recent call last)",
        "\u001b[1;32m<ipython-input-72-5f315c5de15b>\u001b[0m in \u001b[0;36m<module>\u001b[1;34m()\u001b[0m\n\u001b[1;32m----> 1\u001b[1;33m \u001b[0mnext\u001b[0m\u001b[1;33m(\u001b[0m\u001b[0mg\u001b[0m\u001b[1;33m)\u001b[0m\u001b[1;33m\u001b[0m\u001b[0m\n\u001b[0m",
        "\u001b[1;31mStopIteration\u001b[0m: "
       ]
      }
     ],
     "prompt_number": 72
    },
    {
     "cell_type": "markdown",
     "metadata": {},
     "source": [
      "### Benefits of these differences\n",
      "This is because the values aren't *generated* until requested though `next(g)`\n",
      "\n",
      "(Which is what `for` does behin the scenes)\n",
      "\n",
      "This means that that the instantiation time of a `generator object` is much shorter than that of a `list`"
     ]
    },
    {
     "cell_type": "code",
     "collapsed": false,
     "input": [
      "%%timeit\n",
      "g = (x**2 for x in range(10000))"
     ],
     "language": "python",
     "metadata": {},
     "outputs": [
      {
       "output_type": "stream",
       "stream": "stdout",
       "text": [
        "1000000 loops, best of 3: 1.65 \u00b5s per loop\n"
       ]
      }
     ],
     "prompt_number": 73
    },
    {
     "cell_type": "code",
     "collapsed": false,
     "input": [
      "%%timeit\n",
      "l = [x**2 for x in range(10000)]"
     ],
     "language": "python",
     "metadata": {},
     "outputs": [
      {
       "output_type": "stream",
       "stream": "stdout",
       "text": [
        "100 loops, best of 3: 6.17 ms per loop\n"
       ]
      }
     ],
     "prompt_number": 74
    },
    {
     "cell_type": "code",
     "collapsed": false,
     "input": [
      "g_init = 1.65 * 10**-6\n",
      "l_init = 6.17 * 10**-3\n",
      "l_init / g_init"
     ],
     "language": "python",
     "metadata": {},
     "outputs": [
      {
       "metadata": {},
       "output_type": "pyout",
       "prompt_number": 75,
       "text": [
        "3739.39393939394"
       ]
      }
     ],
     "prompt_number": 75
    },
    {
     "cell_type": "markdown",
     "metadata": {},
     "source": [
      "About 6000x faster\n",
      "\n",
      "- no computations have been performed\n",
      "- much less memory had to be allocated"
     ]
    },
    {
     "cell_type": "markdown",
     "metadata": {},
     "source": [
      "The ration should change to the favour of `list` once we actually generate all the values"
     ]
    },
    {
     "cell_type": "code",
     "collapsed": false,
     "input": [
      "%%timeit\n",
      "sum_g = sum(g)"
     ],
     "language": "python",
     "metadata": {},
     "outputs": [
      {
       "output_type": "stream",
       "stream": "stdout",
       "text": [
        "1000000 loops, best of 3: 242 ns per loop\n"
       ]
      }
     ],
     "prompt_number": 76
    },
    {
     "cell_type": "code",
     "collapsed": false,
     "input": [
      "%%timeit\n",
      "sum_l = sum(l)"
     ],
     "language": "python",
     "metadata": {},
     "outputs": [
      {
       "output_type": "stream",
       "stream": "stdout",
       "text": [
        "1000000 loops, best of 3: 307 ns per loop\n"
       ]
      }
     ],
     "prompt_number": 77
    },
    {
     "cell_type": "code",
     "collapsed": false,
     "input": [
      "g_sum = 210 * 10**-9\n",
      "l_sum = 191 * 10**-6\n",
      "l_sum / g_sum"
     ],
     "language": "python",
     "metadata": {},
     "outputs": [
      {
       "metadata": {},
       "output_type": "pyout",
       "prompt_number": 78,
       "text": [
        "909.5238095238094"
       ]
      }
     ],
     "prompt_number": 78
    },
    {
     "cell_type": "code",
     "collapsed": false,
     "input": [
      "g_total = g_init + g_sum\n",
      "l_total = l_init + l_sum\n",
      "l_total / g_total"
     ],
     "language": "python",
     "metadata": {},
     "outputs": [
      {
       "metadata": {},
       "output_type": "pyout",
       "prompt_number": 79,
       "text": [
        "3419.8924731182797"
       ]
      }
     ],
     "prompt_number": 79
    },
    {
     "cell_type": "markdown",
     "metadata": {},
     "source": [
      "Still 5200x faster"
     ]
    },
    {
     "cell_type": "markdown",
     "metadata": {},
     "source": [
      "Again: A generator is used up once it is iterated over.\n",
      "\n",
      "If we need values to persit, we might cast a `generator object` into a `list` at any time:"
     ]
    },
    {
     "cell_type": "code",
     "collapsed": false,
     "input": [
      "g_l = list(x**2 for x in range(100))"
     ],
     "language": "python",
     "metadata": {},
     "outputs": [],
     "prompt_number": 80
    },
    {
     "cell_type": "markdown",
     "metadata": {},
     "source": [
      "### Generators are the essence of fast Python\n",
      "Everything in Python 3 is built around generators and the iterator protocol"
     ]
    },
    {
     "cell_type": "code",
     "collapsed": false,
     "input": [
      "import csv"
     ],
     "language": "python",
     "metadata": {},
     "outputs": [],
     "prompt_number": 82
    },
    {
     "cell_type": "code",
     "collapsed": false,
     "input": [
      "csv_file = open('diamonds.csv', 'r')\n",
      "reader = csv.DictReader(csv_file)"
     ],
     "language": "python",
     "metadata": {},
     "outputs": [],
     "prompt_number": 83
    },
    {
     "cell_type": "code",
     "collapsed": false,
     "input": [
      "'__next__' in dir(reader)"
     ],
     "language": "python",
     "metadata": {},
     "outputs": [
      {
       "metadata": {},
       "output_type": "pyout",
       "prompt_number": 84,
       "text": [
        "True"
       ]
      }
     ],
     "prompt_number": 84
    },
    {
     "cell_type": "code",
     "collapsed": false,
     "input": [
      "'__len__' in dir(reader)"
     ],
     "language": "python",
     "metadata": {},
     "outputs": [
      {
       "metadata": {},
       "output_type": "pyout",
       "prompt_number": 85,
       "text": [
        "False"
       ]
      }
     ],
     "prompt_number": 85
    },
    {
     "cell_type": "code",
     "collapsed": false,
     "input": [
      "%%timeit\n",
      "carats_l = [float(line['carat']) for line in reader]"
     ],
     "language": "python",
     "metadata": {},
     "outputs": [
      {
       "output_type": "stream",
       "stream": "stdout",
       "text": [
        "1 loops, best of 3: 11.1 \u00b5s per loop\n"
       ]
      }
     ],
     "prompt_number": 86
    },
    {
     "cell_type": "code",
     "collapsed": false,
     "input": [
      "%%timeit\n",
      "carats_g = (float(line['carat']) for line in reader)"
     ],
     "language": "python",
     "metadata": {},
     "outputs": [
      {
       "output_type": "stream",
       "stream": "stdout",
       "text": [
        "1000000 loops, best of 3: 1.05 \u00b5s per loop\n"
       ]
      }
     ],
     "prompt_number": 87
    },
    {
     "cell_type": "markdown",
     "metadata": {},
     "source": [
      "### Say hello to `yield`\n",
      "\n",
      "`yield` is a keyword in Python. \n",
      "\n",
      "One of its uses is creating `generator function`s"
     ]
    },
    {
     "cell_type": "code",
     "collapsed": false,
     "input": [
      "# Same functionality as Generator Expression above\n",
      "def iter_squares(n=10):\n",
      "    for x in range(n):\n",
      "        yield x**2"
     ],
     "language": "python",
     "metadata": {},
     "outputs": [],
     "prompt_number": 60
    },
    {
     "cell_type": "code",
     "collapsed": false,
     "input": [
      "iter_squares"
     ],
     "language": "python",
     "metadata": {},
     "outputs": [],
     "prompt_number": 60
    },
    {
     "cell_type": "code",
     "collapsed": false,
     "input": [
      "'__next__' in dir(iter_squares)"
     ],
     "language": "python",
     "metadata": {},
     "outputs": [],
     "prompt_number": 60
    },
    {
     "cell_type": "markdown",
     "metadata": {},
     "source": [
      "A `generator function` returns a `generator object` when it is called"
     ]
    },
    {
     "cell_type": "code",
     "collapsed": false,
     "input": [
      "g = iter_squares()\n",
      "g"
     ],
     "language": "python",
     "metadata": {},
     "outputs": [],
     "prompt_number": 22
    },
    {
     "cell_type": "markdown",
     "metadata": {},
     "source": [
      "Which has all the same properties as one created through a `generator expression`"
     ]
    },
    {
     "cell_type": "code",
     "collapsed": false,
     "input": [
      "'__next__' in dir(g)"
     ],
     "language": "python",
     "metadata": {},
     "outputs": [],
     "prompt_number": 60
    },
    {
     "cell_type": "markdown",
     "metadata": {},
     "source": [
      "In practice `generator functions` and `generator objects` are often referred to as just `generators`"
     ]
    },
    {
     "cell_type": "markdown",
     "metadata": {},
     "source": [
      "### Generator Functions are powerful\n",
      "We can now create create arbitraty genertors and glue them together\n"
     ]
    },
    {
     "cell_type": "code",
     "collapsed": false,
     "input": [
      "def iter_squared(values):\n",
      "    for x in values:\n",
      "        yield x**2\n",
      "        \n",
      "def iter_strings(values):\n",
      "    for x in values:\n",
      "        yield str(x)\n",
      "        \n",
      "def iter_shouted(values):\n",
      "    for s in iter_strings(values):\n",
      "        yield s + '!!'"
     ],
     "language": "python",
     "metadata": {},
     "outputs": [],
     "prompt_number": 95
    },
    {
     "cell_type": "code",
     "collapsed": false,
     "input": [
      "list(iter_shouted(iter_squared(range(5))))"
     ],
     "language": "python",
     "metadata": {},
     "outputs": [],
     "prompt_number": 60
    },
    {
     "cell_type": "markdown",
     "metadata": {},
     "source": [
      "### Using Generators Encourages Good Design\n",
      "           \n",
      "- It allows you to think in streams of data\n",
      "- They are easy to test if written without sideffects \n",
      "- Every sub-step is naturally factored into one `generator function'"
     ]
    },
    {
     "cell_type": "markdown",
     "metadata": {},
     "source": [
      "### A closer look at `yield`\n",
      "We can have multiple `yield` statements in a function, just like `return`"
     ]
    },
    {
     "cell_type": "code",
     "collapsed": false,
     "input": [
      "def many_yields():\n",
      "    for x in range(5):\n",
      "        yield x\n",
      "        yield x\n",
      "    yield '!'"
     ],
     "language": "python",
     "metadata": {},
     "outputs": [],
     "prompt_number": 88
    },
    {
     "cell_type": "code",
     "collapsed": false,
     "input": [
      "list(many_yields())"
     ],
     "language": "python",
     "metadata": {},
     "outputs": [
      {
       "metadata": {},
       "output_type": "pyout",
       "prompt_number": 89,
       "text": [
        "[0, 0, 1, 1, 2, 2, 3, 3, 4, 4, '!']"
       ]
      }
     ],
     "prompt_number": 89
    },
    {
     "cell_type": "markdown",
     "metadata": {},
     "source": [
      "If we omitt the variable on the right side of the `yield` expression we return `None`.\n",
      "\n",
      "`yield` can be then seen as simply pauseing the execution of the code in the generator function until `next()` is called again."
     ]
    },
    {
     "cell_type": "markdown",
     "metadata": {},
     "source": [
      "### Pausing and Resuming"
     ]
    },
    {
     "cell_type": "code",
     "collapsed": false,
     "input": [
      "def ticktock1():\n",
      "    print('Go!')\n",
      "    while True:\n",
      "        print('tick')\n",
      "        yield\n",
      "        print('tock')"
     ],
     "language": "python",
     "metadata": {},
     "outputs": [],
     "prompt_number": 48
    },
    {
     "cell_type": "code",
     "collapsed": false,
     "input": [
      "t1 = ticktock1()\n",
      "next(t1)"
     ],
     "language": "python",
     "metadata": {},
     "outputs": [],
     "prompt_number": 60
    },
    {
     "cell_type": "code",
     "collapsed": false,
     "input": [
      "next(t1)"
     ],
     "language": "python",
     "metadata": {},
     "outputs": [],
     "prompt_number": 60
    },
    {
     "cell_type": "code",
     "collapsed": false,
     "input": [
      "next(t1)"
     ],
     "language": "python",
     "metadata": {},
     "outputs": [],
     "prompt_number": 60
    },
    {
     "cell_type": "markdown",
     "metadata": {},
     "source": [
      "### Lets try again"
     ]
    },
    {
     "cell_type": "code",
     "collapsed": false,
     "input": [
      "def ticktock2():\n",
      "    print('Go!')\n",
      "    while True:\n",
      "        print('tick')\n",
      "        yield\n",
      "        print('tock')\n",
      "        yield"
     ],
     "language": "python",
     "metadata": {},
     "outputs": [],
     "prompt_number": 90
    },
    {
     "cell_type": "code",
     "collapsed": false,
     "input": [
      "t2 = ticktock2()"
     ],
     "language": "python",
     "metadata": {},
     "outputs": [],
     "prompt_number": 91
    },
    {
     "cell_type": "code",
     "collapsed": false,
     "input": [
      "next(t2)"
     ],
     "language": "python",
     "metadata": {},
     "outputs": [
      {
       "output_type": "stream",
       "stream": "stdout",
       "text": [
        "Go!\n",
        "tick\n"
       ]
      }
     ],
     "prompt_number": 92
    },
    {
     "cell_type": "code",
     "collapsed": false,
     "input": [
      "next(t2)"
     ],
     "language": "python",
     "metadata": {},
     "outputs": [
      {
       "output_type": "stream",
       "stream": "stdout",
       "text": [
        "tock\n"
       ]
      }
     ],
     "prompt_number": 93
    },
    {
     "cell_type": "code",
     "collapsed": false,
     "input": [
      "next(t2)"
     ],
     "language": "python",
     "metadata": {},
     "outputs": [
      {
       "output_type": "stream",
       "stream": "stdout",
       "text": [
        "tick\n"
       ]
      }
     ],
     "prompt_number": 94
    },
    {
     "cell_type": "code",
     "collapsed": false,
     "input": [
      "next(t2)"
     ],
     "language": "python",
     "metadata": {},
     "outputs": [
      {
       "output_type": "stream",
       "stream": "stdout",
       "text": [
        "tock\n"
       ]
      }
     ],
     "prompt_number": 95
    },
    {
     "cell_type": "markdown",
     "metadata": {},
     "source": [
      "### `yield` allows for pausing and resuming of routines\n",
      "This is a very important intuition!\n",
      "\n",
      "Cuts a function into pieces!\n",
      "\n",
      "Makes `generators` much more abstract than thinking about it as iterators\n",
      "\n",
      "Opens the way for coroutines and asyncio"
     ]
    },
    {
     "cell_type": "markdown",
     "metadata": {},
     "source": [
      "### One last thing\n",
      "`next(g)` (or `g.__next__()`) is exactly the same as calling `g.send(None)`"
     ]
    },
    {
     "cell_type": "code",
     "collapsed": false,
     "input": [
      "t2.send(None)\n",
      "t2.send(None)"
     ],
     "language": "python",
     "metadata": {},
     "outputs": [
      {
       "output_type": "stream",
       "stream": "stdout",
       "text": [
        "tick\n",
        "tock\n"
       ]
      }
     ],
     "prompt_number": 96
    },
    {
     "cell_type": "code",
     "collapsed": false,
     "input": [],
     "language": "python",
     "metadata": {},
     "outputs": []
    }
   ],
   "metadata": {}
  }
 ]
}